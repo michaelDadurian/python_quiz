{
 "cells": [
  {
   "cell_type": "markdown",
   "metadata": {},
   "source": [
    "# Question 1\n",
    "What are some ways you could find out if a python object is an iterable?\n",
    "\n",
    "\n",
    "\n",
    "\n",
    "\n",
    "\n",
    "\n",
    "\n",
    "\n",
    "\n"
   ]
  },
  {
   "cell_type": "markdown",
   "metadata": {},
   "source": [
    "#try iterating through it!\n"
   ]
  },
  {
   "cell_type": "code",
   "execution_count": 1,
   "metadata": {},
   "outputs": [
    {
     "name": "stdout",
     "output_type": "stream",
     "text": [
      "not iterable\n"
     ]
    }
   ],
   "source": [
    "try:\n",
    "    obj = None\n",
    "    test = [_ for x in obj]\n",
    "except TypeError:\n",
    "    print(\"not iterable\")"
   ]
  },
  {
   "cell_type": "markdown",
   "metadata": {},
   "source": [
    "# Question 2 \n",
    "You are given a function, `primitiveHash()`, that accepts either a string or a number, and outputs its hash. \n",
    "\n",
    "<br>\n",
    "Implement a function `tupleHash()` that computes the hash of a tuple. The tuple can contain strings, numbers, or other tuples. \n",
    "\n",
    "<br>\n",
    "\n",
    "You are not allowed to use the built-in `hash()` method (note that `primitiveHash()` uses it).\n",
    "<br>\n",
    "\n",
    "This question is somewhat open-ended - there is more than one possible implementation for this function. \n",
    "This hash function should be designed such that it could be used by a dictionary implementation.\n",
    "<br>\n",
    "\n",
    "For extra context, view a reference for what is considered hashable in python here:\n",
    "<br>\n",
    "https://stackoverflow.com/a/14535739\n",
    "\n",
    "Dictionary keys must be hashable items. Hashable items must be immutable and comparable. Mutable objects (lists/dictionaries) are not hashable because their hash can change over the lifetime of the object.\n"
   ]
  },
  {
   "cell_type": "code",
   "execution_count": 21,
   "metadata": {},
   "outputs": [],
   "source": [
    "# Execute this cell but don't touch this function\n",
    "def primitiveHash(arg):\n",
    "    if type(arg) in [int,str,float]:\n",
    "        return hash(arg)\n",
    "    raise Exception(\"primitiveHash only accepts a number or a string\")\n"
   ]
  },
  {
   "cell_type": "code",
   "execution_count": 43,
   "metadata": {},
   "outputs": [
    {
     "data": {
      "text/plain": [
       "8601283112370080271"
      ]
     },
     "execution_count": 43,
     "metadata": {},
     "output_type": "execute_result"
    }
   ],
   "source": [
    "def tupleHash(my_tuple):\n",
    "    return compute_hash(my_tuple, 0)\n",
    "\n",
    "def compute_hash(my_tuple, tuple_hash):\n",
    "    #tuple contains strings, numbers, or other tuples\n",
    "    for item in my_tuple:\n",
    "        if type(item) in [int, float,str]:\n",
    "            tuple_hash += primitiveHash(item)\n",
    "        elif type(item) == tuple:\n",
    "            tuple_hash += compute_hash(item, tuple_hash)\n",
    "            \n",
    "    return int(tuple_hash)\n",
    "            \n",
    "tupleHash((4, 98, \"hello\", \"hfhdu\", (5, 3, 5), 8678976, 9802.54, \"zzzzzz\", \"98ihj  soihj\"))"
   ]
  },
  {
   "cell_type": "code",
   "execution_count": 44,
   "metadata": {},
   "outputs": [
    {
     "name": "stdout",
     "output_type": "stream",
     "text": [
      "5146297991148823325 -3260379370662778778 -6256434123508558075\n",
      "-3726622698212719136\n"
     ]
    }
   ],
   "source": [
    "print(hash(\"a\"), hash(\"b\"), hash(\"c\"))\n",
    "print(hash((\"a\",\"b\",\"c\")))"
   ]
  },
  {
   "cell_type": "markdown",
   "metadata": {},
   "source": [
    "# Question 3\n",
    "Implement the functionality of the python set API, such that this code behaves as expected. \n",
    "<br>\n",
    "You may not use `set()`. You probably shouldn't be using `list.append`."
   ]
  },
  {
   "cell_type": "code",
   "execution_count": 42,
   "metadata": {},
   "outputs": [],
   "source": []
  },
  {
   "cell_type": "code",
   "execution_count": 151,
   "metadata": {},
   "outputs": [],
   "source": [
    "class myset:\n",
    "    # Implement\n",
    "    def __init__(self, iter_item=None):\n",
    "        if not hasattr(iter_item, '__iter__'):\n",
    "            raise TypeError(iter_item + \" not iterable\")\n",
    "        self.myset = {}\n",
    "        \n",
    "        if iter_item is not None:\n",
    "            for item in iter_item:\n",
    "                self.add(item)\n",
    "              \n",
    "    def add(self, ele):   \n",
    "        self.myset[ele] = True\n",
    "            \n",
    "    def remove(self, ele):\n",
    "        self.myset.pop(ele, None)\n",
    "        \n",
    "        \n",
    "    def __str__(self):\n",
    "        keys = list(self.myset.keys())\n",
    "        return \",\".join(str(v) for v in keys)\n",
    "    \n",
    "    def __iter__(self):\n",
    "        return myset_iterator(self)\n",
    "    \n",
    "class myset_iterator:\n",
    "    def __init__(self, myset):\n",
    "        self._set = myset.myset\n",
    "        self._keys = list(myset.myset.keys())\n",
    "        \n",
    "    def __next__(self): \n",
    "        if self._index < len(self._set):\n",
    "            result = self._keys[self._index]    \n",
    "            self._index += 1\n",
    "            return result\n",
    "        \n",
    "        raise StopIteration"
   ]
  },
  {
   "cell_type": "code",
   "execution_count": 154,
   "metadata": {},
   "outputs": [
    {
     "name": "stdout",
     "output_type": "stream",
     "text": [
      "1,2,4,5,10,54,32,22\n",
      "<class 'Exception'>\n",
      "1,4,5,10,54,32,22,8,3\n"
     ]
    }
   ],
   "source": [
    "\n",
    "        \n",
    "# Execute this cell to test your implementation (but do not edit)\n",
    "def question3():\n",
    "    x = myset([1, 2, 4, 5, 10, 54, 32, 10, 22])  # make a set\n",
    "    print(x)  # {1,2,3,5}\n",
    "\n",
    "    2 in x  # True\n",
    "\n",
    "    try:\n",
    "        myset(2)  # error: 'int' object is not iterable\n",
    "    except Exception:\n",
    "        print(Exception)\n",
    "\n",
    "    x.add(8)  # adds 8 to the set\n",
    "    x.add(3)  # no-op since 3 is already present\n",
    "    x.remove(2)  # removes 2\n",
    "\n",
    "    print(x)\n",
    "\n",
    "\n",
    "question3()"
   ]
  },
  {
   "cell_type": "markdown",
   "metadata": {},
   "source": [
    "# Question 4\n",
    "Implement the functionality of the python dict API, such that this code behaves as expected.\n",
    "<br>\n",
    "You may not use `dict()`."
   ]
  },
  {
   "cell_type": "code",
   "execution_count": 91,
   "metadata": {},
   "outputs": [],
   "source": [
    "class Node:\n",
    "    def __init__(self, val, key):\n",
    "        self.val = val\n",
    "        self.key = key\n",
    "        self.next = None\n",
    "        \n",
    "class LinkedList:\n",
    "    def __init__(self):\n",
    "        self.head = None\n",
    "        \n",
    "    def push(self, val, key):\n",
    "        new_node = Node(val, key)\n",
    "        new_node.next = self.head\n",
    "        self.head = new_node\n",
    "        \n",
    "    def delete_node(self, key):\n",
    "        temp = self.head\n",
    "        if temp:\n",
    "            if temp.key == key:\n",
    "                self.head = temp.next\n",
    "                temp = None\n",
    "                return\n",
    "        \n",
    "        while temp:\n",
    "            if temp.key == key:\n",
    "                break\n",
    "            prev = temp\n",
    "            temp = temp.next\n",
    "            \n",
    "        if not temp:\n",
    "            return\n",
    "        \n",
    "        prev.next = temp.next\n",
    "        temp = None\n",
    "\n",
    "class mydict:\n",
    "    def __init__(self):\n",
    "        self.capacity = 32\n",
    "        self.arr = [None for _ in range(self.capacity)]\n",
    "        self.num_elements = 0\n",
    "        self.load_factor = .75\n",
    "        self.visited = set()\n",
    "        \n",
    "    def __getitem__(self,item):\n",
    "        item_index = hash(item) % self.capacity\n",
    "        ll = self.arr[item_index]\n",
    "        node = ll.head\n",
    "        while node:\n",
    "            if node.key == item:\n",
    "                return node.val\n",
    "            node = node.next\n",
    "            \n",
    "        raise KeyError\n",
    "        \n",
    "    def __setitem__(self, item, val):\n",
    "        if self.num_elements / self.capacity >= self.load_factor:\n",
    "            self._copy_and_allocate()\n",
    "        \n",
    "        item_index = hash(item) % self.capacity\n",
    "        ll_head = self.arr[item_index]\n",
    "        \n",
    "        if not ll_head:\n",
    "            ll = LinkedList()\n",
    "            self.arr[item_index] = ll\n",
    "        else:\n",
    "            head = ll_head.head\n",
    "            while head:\n",
    "                if head.key == item:\n",
    "                    head.val = val\n",
    "                    return\n",
    "                head = head.next\n",
    "            \n",
    "        self.arr[item_index].push(val, item)\n",
    "        self.num_elements += 1\n",
    "        \n",
    "            \n",
    "    def _copy_and_allocate(self):\n",
    "        self.capacity *= 2\n",
    "        copy = [None for _ in range(self.capacity)]\n",
    "        for item in self.arr:\n",
    "            while item:\n",
    "                new_node = Node(item.val, item.key)\n",
    "                item_index = hash(item.key) % self.capacity\n",
    "                \n",
    "                if copy[item_index]:\n",
    "                    new_node.next = copy[item_index]\n",
    "                else:\n",
    "                    copy[item_index] = new_node\n",
    "                \n",
    "                item = item.next\n",
    "                \n",
    "        self.arr = copy\n",
    "        \n",
    "            \n",
    "    def __delitem__(self, item):\n",
    "        item_index = hash(item) % self.capacity\n",
    "        head = self.arr[item_index]\n",
    "        if head:\n",
    "            head.delete_node(item)\n",
    "            \n",
    "        \n",
    "    def __str__(self):\n",
    "        visited = set()\n",
    "        visited.add(id(self))\n",
    "        dict_str = \"{\"\n",
    "        return self._helper(visited, dict_str)\n",
    "    \n",
    "    \n",
    "    def _helper(self, visited, dict_str):\n",
    "        for key in self:\n",
    "            value = self[key]\n",
    "            if id(value) not in visited:\n",
    "                #print(type(value) == mydict)\n",
    "                if type(value) == mydict:\n",
    "                    visited.add(id(value))\n",
    "                kv_str = str(key) + \":\" + (str(value)) + \", \"    \n",
    "                # need to handle case \"key: {...}\" if val is already visited\n",
    "                #dict_str += kv_str\n",
    "            else:\n",
    "                kv_str = str(key) + \":\" + \"{...}\" + \", \"\n",
    "                \n",
    "            dict_str += kv_str\n",
    "        \n",
    "        return dict_str[:-2] + '}'        \n",
    "\n",
    "    \n",
    "    def __iter__(self):\n",
    "        return MyDictIter(self)\n",
    "    \n",
    "    def values(self):\n",
    "        for item in self.arr:\n",
    "            if item is not None:\n",
    "                head = item.head\n",
    "                while head:\n",
    "                    yield head.val\n",
    "                    head = head.next\n",
    "                    \n",
    "class MyDictIter:\n",
    "    def __init__(self, mydict):\n",
    "        self.index = 0\n",
    "        self.node = None\n",
    "        self.mydict = mydict\n",
    "        \n",
    "    def __next__(self):\n",
    "        while self.index < self.mydict.capacity and not self.node:\n",
    "            ll = self.mydict.arr[self.index]\n",
    "            if ll:\n",
    "                self.node = ll.head\n",
    "            self.index += 1\n",
    "            \n",
    "        if self.index == self.mydict.capacity: \n",
    "            raise StopIteration\n",
    "            \n",
    "        result = ll.head.key\n",
    "        self.node = ll.head.next\n",
    "        return result\n",
    "\n",
    "\n"
   ]
  },
  {
   "cell_type": "code",
   "execution_count": 92,
   "metadata": {},
   "outputs": [
    {
     "name": "stdout",
     "output_type": "stream",
     "text": [
      "{1:foo, (1, 2, 3):{...}, bar:2, aaaa:35}\n",
      "\n",
      "Printing keys:\n",
      "(1, 2, 3)\n",
      "bar\n",
      "aaaa\n",
      "\n",
      "Printing values:\n",
      "{(1, 2, 3):{...}, bar:3, aaaa:35}\n",
      "3\n",
      "35\n"
     ]
    }
   ],
   "source": [
    "# Execute this cell to test your implementation (but do not edit)\n",
    "def question4():\n",
    "    x = mydict()\n",
    "    x[1] = \"foo\"\n",
    "    #print(x)\n",
    "    x[\"bar\"] = 2\n",
    "    #print(x)\n",
    "    x[\"aaaa\"] = 35\n",
    "    x[(1, 2, 3)] = x\n",
    "    \n",
    "    print(x)\n",
    "    del x[1]\n",
    "#     print(x)\n",
    "    #print(x)  # {\"bar\": 2, (1,2,3): {...}}\n",
    "    \n",
    "\n",
    "    x[\"bar\"] = 3\n",
    "    print(\"\\nPrinting keys:\")\n",
    "    for key in x:\n",
    "        print(key)  # prints each key (\"bar\", (1,2,3))\n",
    "\n",
    "    print(\"\\nPrinting values:\")\n",
    "    for value in x.values():\n",
    "        print(value)  # prints each value (3, {\"bar\": 3, (1,2,3): {...}})\n",
    "\n",
    "    \n",
    "question4()"
   ]
  },
  {
   "cell_type": "markdown",
   "metadata": {},
   "source": [
    "# Question 5\n",
    "What does the `dir()` function do?"
   ]
  },
  {
   "cell_type": "markdown",
   "metadata": {},
   "source": [
    "returns all properties and methods of an object"
   ]
  },
  {
   "cell_type": "markdown",
   "metadata": {},
   "source": [
    "# Question 6\n",
    "Let's say you have a class, `Goose`.\n",
    "\n",
    "```\n",
    "class Goose:\n",
    "   def __init__(self,quack):\n",
    "       self.quack = quack\n",
    "```\n",
    "You would like to be able to use the `+`, `*`, `/`, and `-` operators with instances of `Goose`, that operates on their `quack` values. <br>\n",
    "Example:<br>\n",
    "```\n",
    "goose1 = Goose(2)\n",
    "goose2 = Goose(3)\n",
    "goose3 = goose1 + goose2\n",
    "print(goose3.quack) # prints 5\n",
    "```\n",
    "\n",
    "How would you implement the `Goose` class to support this?"
   ]
  },
  {
   "cell_type": "code",
   "execution_count": 39,
   "metadata": {},
   "outputs": [],
   "source": [
    "# Implement\n",
    "class Goose:\n",
    "    def __init__(self,quack):\n",
    "        self.quack = quack\n",
    "        \n",
    "    def __add__(self, other):\n",
    "        return Goose(self.quack + other.quack)\n",
    "    \n",
    "    def __mul__(self, other):\n",
    "        return Goose(self.quack * other.quack)\n",
    "    \n",
    "    def __truediv__(self, other):\n",
    "        return Goose(self.quack / other.quack)\n",
    "\n",
    "    def __sub__(self, other):\n",
    "        return Goose(self.quack - other.quack)\n",
    "    "
   ]
  },
  {
   "cell_type": "code",
   "execution_count": 40,
   "metadata": {},
   "outputs": [],
   "source": [
    "# Execute this cell to test your implementation (but do not edit)\n",
    "g1 = Goose(12)\n",
    "g2 = Goose(3)\n",
    "g3 = g1 + g2\n",
    "g4 = g1 * g2 \n",
    "g5 = g1 / g2\n",
    "g6 = g1 - g2\n",
    "assert(g3.quack == 15)\n",
    "assert(g4.quack == 36)\n",
    "assert(g5.quack == 4)\n",
    "assert(g6.quack == 9)"
   ]
  },
  {
   "cell_type": "markdown",
   "metadata": {},
   "source": [
    "# Question 7\n",
    "Given this modified base implementation of `Goose`:\n",
    "```\n",
    "class Goose:\n",
    "    def __init__(self,quack):\n",
    "        if type(quack) != int or quack < 1:\n",
    "            raise Exception(\"Need positive integer quack\")\n",
    "        self.quack = quack\n",
    "```\n",
    "Implement `Goose` to support the following behavior:\n",
    "```\n",
    "goose = Goose(5)\n",
    "for thing in goose:\n",
    "    print(thing)\n",
    "```\n",
    "Output:\n",
    "```\n",
    "5\n",
    "4\n",
    "3\n",
    "2\n",
    "1\n",
    "```"
   ]
  },
  {
   "cell_type": "code",
   "execution_count": 41,
   "metadata": {},
   "outputs": [],
   "source": [
    "# Implement\n",
    "class Goose:\n",
    "    def __init__(self,quack):\n",
    "        if type(quack) != int or quack < 1:\n",
    "            raise Exception(\"Need positive integer quack\")\n",
    "        self.quack = quack\n",
    "        \n",
    "    def __iter__(self):\n",
    "        return GooseIter(self)\n",
    "    \n",
    "class GooseIter:\n",
    "    def __init__(self, goose):\n",
    "        self._index = 0\n",
    "        self._range = range(1, goose.quack + 1)\n",
    "        \n",
    "    def __next__(self):\n",
    "        if self._index < len(self._range):\n",
    "            result = self._range[self._index]\n",
    "            self._index += 1\n",
    "            return result\n",
    "        \n",
    "        raise StopIteration\n",
    "        "
   ]
  },
  {
   "cell_type": "code",
   "execution_count": 42,
   "metadata": {},
   "outputs": [
    {
     "name": "stdout",
     "output_type": "stream",
     "text": [
      "1\n",
      "2\n",
      "3\n",
      "4\n",
      "5\n"
     ]
    }
   ],
   "source": [
    "goose = Goose(5)\n",
    "for thing in goose:\n",
    "    print(thing)"
   ]
  },
  {
   "cell_type": "markdown",
   "metadata": {},
   "source": [
    "# Question 8\n",
    "Given the same implementation of `Goose` as from question 7, and the following code:\n",
    "```\n",
    "goose = Goose(5)\n",
    "for thing in goose:\n",
    "    pass\n",
    "```\n",
    "\n",
    "Implement `Goose` such that the following output is produced instead\n",
    "Output:\n",
    "```\n",
    "5 quack-quack-quack-quack-quack\n",
    "4 quack-quack-quack-quack\n",
    "3 quack-quack-quack\n",
    "2 quack-quack\n",
    "1 quack\n",
    "```"
   ]
  },
  {
   "cell_type": "code",
   "execution_count": 43,
   "metadata": {},
   "outputs": [],
   "source": [
    "# Implement\n",
    "class Goose:\n",
    "    def __init__(self,quack):\n",
    "        if type(quack) != int or quack < 1:\n",
    "            raise Exception(\"Need positive integer quack\")\n",
    "        self.quack = quack\n",
    "        \n",
    "    def __iter__(self):\n",
    "        return GooseIter(self)\n",
    "    \n",
    "class GooseIter:\n",
    "    def __init__(self, goose):       \n",
    "        self._range = range(1, goose.quack + 1)\n",
    "        self._index = len(self._range) - 1\n",
    "        \n",
    "    def __next__(self):\n",
    "        if self._index >= 0:\n",
    "            quack_str = '-'.join(['quack'] * (self._range[self._index]))\n",
    "            result = str(self._range[self._index]) + ' ' + quack_str\n",
    "            self._index -= 1\n",
    "            return result\n",
    "        \n",
    "        raise StopIteration"
   ]
  },
  {
   "cell_type": "code",
   "execution_count": 44,
   "metadata": {},
   "outputs": [
    {
     "name": "stdout",
     "output_type": "stream",
     "text": [
      "5 quack-quack-quack-quack-quack\n",
      "4 quack-quack-quack-quack\n",
      "3 quack-quack-quack\n",
      "2 quack-quack\n",
      "1 quack\n"
     ]
    }
   ],
   "source": [
    "goose = Goose(5)\n",
    "for thing in goose:\n",
    "    print(thing)"
   ]
  },
  {
   "cell_type": "code",
   "execution_count": 1,
   "metadata": {},
   "outputs": [],
   "source": []
  },
  {
   "cell_type": "code",
   "execution_count": null,
   "metadata": {},
   "outputs": [],
   "source": []
  },
  {
   "cell_type": "code",
   "execution_count": null,
   "metadata": {},
   "outputs": [],
   "source": []
  }
 ],
 "metadata": {
  "kernelspec": {
   "display_name": "Python 3",
   "language": "python",
   "name": "python3"
  },
  "language_info": {
   "codemirror_mode": {
    "name": "ipython",
    "version": 3
   },
   "file_extension": ".py",
   "mimetype": "text/x-python",
   "name": "python",
   "nbconvert_exporter": "python",
   "pygments_lexer": "ipython3",
   "version": "3.8.5"
  }
 },
 "nbformat": 4,
 "nbformat_minor": 4
}
